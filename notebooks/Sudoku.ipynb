{
 "cells": [
  {
   "cell_type": "markdown",
   "metadata": {},
   "source": [
    "# A simple Sudoku solver in Python\n",
    "\n",
    "Writing a [Sudoku](https://en.wikipedia.org/wiki/Sudoku) puzzle solver is a nice little programming exercise. A valid puzzle is a 9x9 grid of cells consisting of nine 3x3-cell non-overlapping boxes, and the aim is to place a digit on each cell so that each digits appears only once on each row, only once on each column, and only once on each block. In the beginning, some of the digit placements are given so that the solution of the puzzle is unique."
   ]
  },
  {
   "cell_type": "markdown",
   "metadata": {},
   "source": [
    "## Drawing a sudoku\n",
    "\n",
    "Let's start by defining a small class to hold a Sudoku puzzle."
   ]
  },
  {
   "cell_type": "code",
   "execution_count": 1,
   "metadata": {},
   "outputs": [],
   "source": [
    "class Sudoku(object):\n",
    "    \n",
    "    def __init__(self, sudoku_as_string, check_valid_characters=True):\n",
    "        \"\"\"Initializes the sudoku from a 81-character string containing one character\n",
    "        for each cell, from left to right, top to bottom.\"\"\"\n",
    "        if len(sudoku_as_string) != 81:\n",
    "            raise ValueError(\"A Sudoku puzzle must be initialized with an 81-character string!\")\n",
    "        # The next check is optional so that we can abuse the class a bit later\n",
    "        if check_valid_characters:\n",
    "            if any(c not in \" 123456789\" for c in sudoku_as_string):\n",
    "                raise ValueError(\"A Sudoku can only contain digits 1-9 and spaces!\")\n",
    "        self.puzzle = sudoku_as_string\n",
    "        \n",
    "        \n",
    "    def _repr_html_(self):\n",
    "        \"\"\"Returns a styled HTML representation of the Sudoku puzzle for Jupyter to render.\"\"\"\n",
    "        \n",
    "        # Override the zebra striping of tables in the default Jupyter theme and draw a grid\n",
    "        # in CSS\n",
    "        puzzle_css = \"\"\"\n",
    "            tr.sudoku-tr {background: #ffffff;}\n",
    "            td.sudoku-td {border: 1px solid #888888; width: 25pt;\n",
    "                height: 25pt; text-align: center; font-size: 12pt;}\n",
    "            tr.sudoku-tr:nth-of-type(3n) {border-bottom: 2px solid black;}\n",
    "            tr.sudoku-tr:nth-of-type(1) {border-top: 2px solid black;}\n",
    "            td.sudoku-td:nth-of-type(3n) {border-right: 2px solid black;}\n",
    "            td.sudoku-td:nth-of-type(1) {border-left: 2px solid black;}\n",
    "            \"\"\"\n",
    "        \n",
    "        # Construct the puzzle in HTML\n",
    "        rows = [self.puzzle[9*i:9*(i+1)] for i in range(9)]\n",
    "        puzzle_table_rows = [\"\".join(f\"<td class='sudoku-td'>{x}</td>\" for x in line)\n",
    "                             for line in rows]\n",
    "        puzzle_html = (\"<style type='text/css'>\" + puzzle_css + \"</style>\" +\n",
    "                       \"<table class='sudoku'>\" +\n",
    "                       \"\".join(f\"<tr class='sudoku-tr'>{line}</tr>\" for line in puzzle_table_rows) +\n",
    "                       \"</table>\")\n",
    "        return puzzle_html"
   ]
  },
  {
   "cell_type": "code",
   "execution_count": 2,
   "metadata": {},
   "outputs": [
    {
     "data": {
      "text/html": [
       "<style type='text/css'>\n",
       "            tr.sudoku-tr {background: #ffffff;}\n",
       "            td.sudoku-td {border: 1px solid #888888; width: 25pt;\n",
       "                height: 25pt; text-align: center; font-size: 12pt;}\n",
       "            tr.sudoku-tr:nth-of-type(3n) {border-bottom: 2px solid black;}\n",
       "            tr.sudoku-tr:nth-of-type(1) {border-top: 2px solid black;}\n",
       "            td.sudoku-td:nth-of-type(3n) {border-right: 2px solid black;}\n",
       "            td.sudoku-td:nth-of-type(1) {border-left: 2px solid black;}\n",
       "            </style><table class='sudoku'><tr class='sudoku-tr'><td class='sudoku-td'> </td><td class='sudoku-td'> </td><td class='sudoku-td'> </td><td class='sudoku-td'>3</td><td class='sudoku-td'>3</td><td class='sudoku-td'>3</td><td class='sudoku-td'> </td><td class='sudoku-td'> </td><td class='sudoku-td'> </td></tr><tr class='sudoku-tr'><td class='sudoku-td'>1</td><td class='sudoku-td'> </td><td class='sudoku-td'>2</td><td class='sudoku-td'> </td><td class='sudoku-td'>9</td><td class='sudoku-td'> </td><td class='sudoku-td'>8</td><td class='sudoku-td'>8</td><td class='sudoku-td'>8</td></tr><tr class='sudoku-tr'><td class='sudoku-td'> </td><td class='sudoku-td'>5</td><td class='sudoku-td'> </td><td class='sudoku-td'> </td><td class='sudoku-td'> </td><td class='sudoku-td'> </td><td class='sudoku-td'> </td><td class='sudoku-td'>5</td><td class='sudoku-td'> </td></tr><tr class='sudoku-tr'><td class='sudoku-td'> </td><td class='sudoku-td'> </td><td class='sudoku-td'> </td><td class='sudoku-td'>3</td><td class='sudoku-td'>3</td><td class='sudoku-td'>3</td><td class='sudoku-td'> </td><td class='sudoku-td'> </td><td class='sudoku-td'> </td></tr><tr class='sudoku-tr'><td class='sudoku-td'> </td><td class='sudoku-td'> </td><td class='sudoku-td'> </td><td class='sudoku-td'>3</td><td class='sudoku-td'>3</td><td class='sudoku-td'>3</td><td class='sudoku-td'> </td><td class='sudoku-td'> </td><td class='sudoku-td'> </td></tr><tr class='sudoku-tr'><td class='sudoku-td'> </td><td class='sudoku-td'> </td><td class='sudoku-td'> </td><td class='sudoku-td'>3</td><td class='sudoku-td'>3</td><td class='sudoku-td'>3</td><td class='sudoku-td'> </td><td class='sudoku-td'> </td><td class='sudoku-td'> </td></tr><tr class='sudoku-tr'><td class='sudoku-td'>1</td><td class='sudoku-td'> </td><td class='sudoku-td'>2</td><td class='sudoku-td'> </td><td class='sudoku-td'>9</td><td class='sudoku-td'> </td><td class='sudoku-td'>8</td><td class='sudoku-td'>8</td><td class='sudoku-td'>8</td></tr><tr class='sudoku-tr'><td class='sudoku-td'>1</td><td class='sudoku-td'> </td><td class='sudoku-td'>2</td><td class='sudoku-td'> </td><td class='sudoku-td'>9</td><td class='sudoku-td'> </td><td class='sudoku-td'>8</td><td class='sudoku-td'>8</td><td class='sudoku-td'>8</td></tr><tr class='sudoku-tr'><td class='sudoku-td'>1</td><td class='sudoku-td'> </td><td class='sudoku-td'>2</td><td class='sudoku-td'> </td><td class='sudoku-td'>9</td><td class='sudoku-td'> </td><td class='sudoku-td'>8</td><td class='sudoku-td'>8</td><td class='sudoku-td'>8</td></tr></table>"
      ],
      "text/plain": [
       "<__main__.Sudoku at 0x10d37b588>"
      ]
     },
     "execution_count": 2,
     "metadata": {},
     "output_type": "execute_result"
    }
   ],
   "source": [
    "# Not really a valid Sudoku, just checking that the Jupyter pretty-printing works as expected\n",
    "Sudoku(\"   333   \"\n",
    "       \"1 2 9 888\"\n",
    "       \" 5     5 \"\n",
    "       \"   333   \"\n",
    "       \"   333   \"\n",
    "       \"   333   \"\n",
    "       \"1 2 9 888\"\n",
    "       \"1 2 9 888\"\n",
    "       \"1 2 9 888\")"
   ]
  },
  {
   "cell_type": "markdown",
   "metadata": {},
   "source": [
    "## Solution strategy\n",
    "\n",
    "The simplest algorithm that could work for this problem would be to try brute-forcing through every possible combination.\n",
    "\n",
    "Let's try a recursive approach: Given an unsolved puzzle, check first if it's all solved. If it is, return the puzzle, otherwise pick the first empty cell and try each digit on that cell. If a solution was found, return it; if none of the digits yields a solution for the puzzle, it's impossible, so return None.\n",
    "\n",
    "This way we are implementing a depth-first brute-force search, terminating each branch as soon as it's clear there is no solution that way.\n",
    "\n",
    "First, let's codify the rules in a way that checking whether a puzzle is valid is easy. I chose to store the puzzle as a simple 81-character string, so string indices 0-80 correspond to cells in a puzzle like this:"
   ]
  },
  {
   "cell_type": "code",
   "execution_count": 3,
   "metadata": {},
   "outputs": [
    {
     "data": {
      "text/html": [
       "<style type='text/css'>\n",
       "            tr.sudoku-tr {background: #ffffff;}\n",
       "            td.sudoku-td {border: 1px solid #888888; width: 25pt;\n",
       "                height: 25pt; text-align: center; font-size: 12pt;}\n",
       "            tr.sudoku-tr:nth-of-type(3n) {border-bottom: 2px solid black;}\n",
       "            tr.sudoku-tr:nth-of-type(1) {border-top: 2px solid black;}\n",
       "            td.sudoku-td:nth-of-type(3n) {border-right: 2px solid black;}\n",
       "            td.sudoku-td:nth-of-type(1) {border-left: 2px solid black;}\n",
       "            </style><table class='sudoku'><tr class='sudoku-tr'><td class='sudoku-td'>0</td><td class='sudoku-td'>1</td><td class='sudoku-td'>2</td><td class='sudoku-td'>3</td><td class='sudoku-td'>4</td><td class='sudoku-td'>5</td><td class='sudoku-td'>6</td><td class='sudoku-td'>7</td><td class='sudoku-td'>8</td></tr><tr class='sudoku-tr'><td class='sudoku-td'>9</td><td class='sudoku-td'>10</td><td class='sudoku-td'>11</td><td class='sudoku-td'>12</td><td class='sudoku-td'>13</td><td class='sudoku-td'>14</td><td class='sudoku-td'>15</td><td class='sudoku-td'>16</td><td class='sudoku-td'>17</td></tr><tr class='sudoku-tr'><td class='sudoku-td'>18</td><td class='sudoku-td'>19</td><td class='sudoku-td'>20</td><td class='sudoku-td'>21</td><td class='sudoku-td'>22</td><td class='sudoku-td'>23</td><td class='sudoku-td'>24</td><td class='sudoku-td'>25</td><td class='sudoku-td'>26</td></tr><tr class='sudoku-tr'><td class='sudoku-td'>27</td><td class='sudoku-td'>28</td><td class='sudoku-td'>29</td><td class='sudoku-td'>30</td><td class='sudoku-td'>31</td><td class='sudoku-td'>32</td><td class='sudoku-td'>33</td><td class='sudoku-td'>34</td><td class='sudoku-td'>35</td></tr><tr class='sudoku-tr'><td class='sudoku-td'>36</td><td class='sudoku-td'>37</td><td class='sudoku-td'>38</td><td class='sudoku-td'>39</td><td class='sudoku-td'>40</td><td class='sudoku-td'>41</td><td class='sudoku-td'>42</td><td class='sudoku-td'>43</td><td class='sudoku-td'>44</td></tr><tr class='sudoku-tr'><td class='sudoku-td'>45</td><td class='sudoku-td'>46</td><td class='sudoku-td'>47</td><td class='sudoku-td'>48</td><td class='sudoku-td'>49</td><td class='sudoku-td'>50</td><td class='sudoku-td'>51</td><td class='sudoku-td'>52</td><td class='sudoku-td'>53</td></tr><tr class='sudoku-tr'><td class='sudoku-td'>54</td><td class='sudoku-td'>55</td><td class='sudoku-td'>56</td><td class='sudoku-td'>57</td><td class='sudoku-td'>58</td><td class='sudoku-td'>59</td><td class='sudoku-td'>60</td><td class='sudoku-td'>61</td><td class='sudoku-td'>62</td></tr><tr class='sudoku-tr'><td class='sudoku-td'>63</td><td class='sudoku-td'>64</td><td class='sudoku-td'>65</td><td class='sudoku-td'>66</td><td class='sudoku-td'>67</td><td class='sudoku-td'>68</td><td class='sudoku-td'>69</td><td class='sudoku-td'>70</td><td class='sudoku-td'>71</td></tr><tr class='sudoku-tr'><td class='sudoku-td'>72</td><td class='sudoku-td'>73</td><td class='sudoku-td'>74</td><td class='sudoku-td'>75</td><td class='sudoku-td'>76</td><td class='sudoku-td'>77</td><td class='sudoku-td'>78</td><td class='sudoku-td'>79</td><td class='sudoku-td'>80</td></tr></table>"
      ],
      "text/plain": [
       "<__main__.Sudoku at 0x10d3771d0>"
      ]
     },
     "execution_count": 3,
     "metadata": {},
     "output_type": "execute_result"
    }
   ],
   "source": [
    "Sudoku([str(i) for i in range(81)], False) # Here we abuse the class written above a little"
   ]
  },
  {
   "cell_type": "code",
   "execution_count": 4,
   "metadata": {},
   "outputs": [
    {
     "data": {
      "text/plain": [
       "[[0, 1, 2, 3, 4, 5, 6, 7, 8],\n",
       " [9, 10, 11, 12, 13, 14, 15, 16, 17],\n",
       " [18, 19, 20, 21, 22, 23, 24, 25, 26],\n",
       " [27, 28, 29, 30, 31, 32, 33, 34, 35],\n",
       " [36, 37, 38, 39, 40, 41, 42, 43, 44],\n",
       " [45, 46, 47, 48, 49, 50, 51, 52, 53],\n",
       " [54, 55, 56, 57, 58, 59, 60, 61, 62],\n",
       " [63, 64, 65, 66, 67, 68, 69, 70, 71],\n",
       " [72, 73, 74, 75, 76, 77, 78, 79, 80],\n",
       " [0, 9, 18, 27, 36, 45, 54, 63, 72],\n",
       " [1, 10, 19, 28, 37, 46, 55, 64, 73],\n",
       " [2, 11, 20, 29, 38, 47, 56, 65, 74],\n",
       " [3, 12, 21, 30, 39, 48, 57, 66, 75],\n",
       " [4, 13, 22, 31, 40, 49, 58, 67, 76],\n",
       " [5, 14, 23, 32, 41, 50, 59, 68, 77],\n",
       " [6, 15, 24, 33, 42, 51, 60, 69, 78],\n",
       " [7, 16, 25, 34, 43, 52, 61, 70, 79],\n",
       " [8, 17, 26, 35, 44, 53, 62, 71, 80],\n",
       " [0, 1, 2, 9, 10, 11, 18, 19, 20],\n",
       " [27, 28, 29, 36, 37, 38, 45, 46, 47],\n",
       " [54, 55, 56, 63, 64, 65, 72, 73, 74],\n",
       " [3, 4, 5, 12, 13, 14, 21, 22, 23],\n",
       " [30, 31, 32, 39, 40, 41, 48, 49, 50],\n",
       " [57, 58, 59, 66, 67, 68, 75, 76, 77],\n",
       " [6, 7, 8, 15, 16, 17, 24, 25, 26],\n",
       " [33, 34, 35, 42, 43, 44, 51, 52, 53],\n",
       " [60, 61, 62, 69, 70, 71, 78, 79, 80]]"
      ]
     },
     "execution_count": 4,
     "metadata": {},
     "output_type": "execute_result"
    }
   ],
   "source": [
    "def create_sudoku_groups():\n",
    "    \"\"\"Constructs the list of groups of cells in a Sudoku that must contain unique digits.\n",
    "    Each group of cells is represented by a list of cell numbers (0-80, starting from the upper\n",
    "    left corner, numbered left to right, top to bottom).\"\"\"\n",
    "    groups = [[icol + 9*irow for icol in range(9)] for irow in range(9)] # rows\n",
    "    groups += [[icol + 9*irow for irow in range(9)] for icol in range(9)] # columns\n",
    "    groups += [[3*icol + 27*irow + i for i in [0, 1, 2, 9, 10, 11, 18, 19, 20]]\n",
    "               for icol in range(3) for irow in range(3)] # blocks\n",
    "    return groups\n",
    "\n",
    "sudoku_groups = create_sudoku_groups()\n",
    "sudoku_groups"
   ]
  },
  {
   "cell_type": "code",
   "execution_count": 5,
   "metadata": {},
   "outputs": [],
   "source": [
    "def solve_sudoku(puzzle, sudoku_groups):\n",
    "    \"\"\"Recursively solves the Sudoku. Returns the solution or None, if there is no solution.\"\"\"\n",
    "    # First check the validity of the puzzle\n",
    "    for cell_list in sudoku_groups:\n",
    "        block_digits = [puzzle.puzzle[i] for i in cell_list if puzzle.puzzle[i] != \" \"]\n",
    "        if len(block_digits) != len(set(block_digits)):\n",
    "            return None\n",
    "    \n",
    "    # Find the first empty cell. If no empty cells are found, the puzzle is solved.\n",
    "    first_empty_cell = puzzle.puzzle.find(\" \")\n",
    "    if first_empty_cell == -1:\n",
    "        return puzzle\n",
    "    \n",
    "    # Try every option on the empty cell. If none works, this is a dead end, return None.\n",
    "    for digit in \"123456789\":\n",
    "        trial = Sudoku(puzzle.puzzle.replace(\" \", digit, 1))\n",
    "        solution = solve_sudoku(trial, sudoku_groups)\n",
    "        if solution:\n",
    "            return solution # propagates up when found\n",
    "    \n",
    "    return None"
   ]
  },
  {
   "cell_type": "markdown",
   "metadata": {},
   "source": [
    "Let's try an invalid puzzle first, this should return None:"
   ]
  },
  {
   "cell_type": "code",
   "execution_count": 6,
   "metadata": {},
   "outputs": [
    {
     "data": {
      "text/plain": [
       "True"
      ]
     },
     "execution_count": 6,
     "metadata": {},
     "output_type": "execute_result"
    }
   ],
   "source": [
    "invalid_puzzle = Sudoku(9*\"123 4 421\")\n",
    "solve_sudoku(invalid_puzzle, sudoku_groups) == None"
   ]
  },
  {
   "cell_type": "markdown",
   "metadata": {},
   "source": [
    "## Testing the solver\n",
    "\n",
    "Let's test it with a sudoku found on the Wikipedia page:"
   ]
  },
  {
   "cell_type": "code",
   "execution_count": 7,
   "metadata": {},
   "outputs": [
    {
     "data": {
      "text/html": [
       "<style type='text/css'>\n",
       "            tr.sudoku-tr {background: #ffffff;}\n",
       "            td.sudoku-td {border: 1px solid #888888; width: 25pt;\n",
       "                height: 25pt; text-align: center; font-size: 12pt;}\n",
       "            tr.sudoku-tr:nth-of-type(3n) {border-bottom: 2px solid black;}\n",
       "            tr.sudoku-tr:nth-of-type(1) {border-top: 2px solid black;}\n",
       "            td.sudoku-td:nth-of-type(3n) {border-right: 2px solid black;}\n",
       "            td.sudoku-td:nth-of-type(1) {border-left: 2px solid black;}\n",
       "            </style><table class='sudoku'><tr class='sudoku-tr'><td class='sudoku-td'>5</td><td class='sudoku-td'>3</td><td class='sudoku-td'> </td><td class='sudoku-td'> </td><td class='sudoku-td'>7</td><td class='sudoku-td'> </td><td class='sudoku-td'> </td><td class='sudoku-td'> </td><td class='sudoku-td'> </td></tr><tr class='sudoku-tr'><td class='sudoku-td'>6</td><td class='sudoku-td'> </td><td class='sudoku-td'> </td><td class='sudoku-td'>1</td><td class='sudoku-td'>9</td><td class='sudoku-td'>5</td><td class='sudoku-td'> </td><td class='sudoku-td'> </td><td class='sudoku-td'> </td></tr><tr class='sudoku-tr'><td class='sudoku-td'> </td><td class='sudoku-td'>9</td><td class='sudoku-td'>8</td><td class='sudoku-td'> </td><td class='sudoku-td'> </td><td class='sudoku-td'> </td><td class='sudoku-td'> </td><td class='sudoku-td'>6</td><td class='sudoku-td'> </td></tr><tr class='sudoku-tr'><td class='sudoku-td'>8</td><td class='sudoku-td'> </td><td class='sudoku-td'> </td><td class='sudoku-td'> </td><td class='sudoku-td'>6</td><td class='sudoku-td'> </td><td class='sudoku-td'> </td><td class='sudoku-td'> </td><td class='sudoku-td'>3</td></tr><tr class='sudoku-tr'><td class='sudoku-td'>4</td><td class='sudoku-td'> </td><td class='sudoku-td'> </td><td class='sudoku-td'>8</td><td class='sudoku-td'> </td><td class='sudoku-td'>3</td><td class='sudoku-td'> </td><td class='sudoku-td'> </td><td class='sudoku-td'>1</td></tr><tr class='sudoku-tr'><td class='sudoku-td'>7</td><td class='sudoku-td'> </td><td class='sudoku-td'> </td><td class='sudoku-td'> </td><td class='sudoku-td'>2</td><td class='sudoku-td'> </td><td class='sudoku-td'> </td><td class='sudoku-td'> </td><td class='sudoku-td'>6</td></tr><tr class='sudoku-tr'><td class='sudoku-td'> </td><td class='sudoku-td'>6</td><td class='sudoku-td'> </td><td class='sudoku-td'> </td><td class='sudoku-td'> </td><td class='sudoku-td'> </td><td class='sudoku-td'>2</td><td class='sudoku-td'>8</td><td class='sudoku-td'> </td></tr><tr class='sudoku-tr'><td class='sudoku-td'> </td><td class='sudoku-td'> </td><td class='sudoku-td'> </td><td class='sudoku-td'>4</td><td class='sudoku-td'>1</td><td class='sudoku-td'>9</td><td class='sudoku-td'> </td><td class='sudoku-td'> </td><td class='sudoku-td'>5</td></tr><tr class='sudoku-tr'><td class='sudoku-td'> </td><td class='sudoku-td'> </td><td class='sudoku-td'> </td><td class='sudoku-td'> </td><td class='sudoku-td'>8</td><td class='sudoku-td'> </td><td class='sudoku-td'> </td><td class='sudoku-td'>7</td><td class='sudoku-td'>9</td></tr></table>"
      ],
      "text/plain": [
       "<__main__.Sudoku at 0x10d39f518>"
      ]
     },
     "execution_count": 7,
     "metadata": {},
     "output_type": "execute_result"
    }
   ],
   "source": [
    "sudoku = Sudoku(\"53  7    \"\n",
    "                \"6  195   \"\n",
    "                \" 98    6 \"\n",
    "                \"8   6   3\"\n",
    "                \"4  8 3  1\"\n",
    "                \"7   2   6\"\n",
    "                \" 6    28 \"\n",
    "                \"   419  5\"\n",
    "                \"    8  79\")\n",
    "sudoku"
   ]
  },
  {
   "cell_type": "code",
   "execution_count": 8,
   "metadata": {},
   "outputs": [
    {
     "data": {
      "text/html": [
       "<style type='text/css'>\n",
       "            tr.sudoku-tr {background: #ffffff;}\n",
       "            td.sudoku-td {border: 1px solid #888888; width: 25pt;\n",
       "                height: 25pt; text-align: center; font-size: 12pt;}\n",
       "            tr.sudoku-tr:nth-of-type(3n) {border-bottom: 2px solid black;}\n",
       "            tr.sudoku-tr:nth-of-type(1) {border-top: 2px solid black;}\n",
       "            td.sudoku-td:nth-of-type(3n) {border-right: 2px solid black;}\n",
       "            td.sudoku-td:nth-of-type(1) {border-left: 2px solid black;}\n",
       "            </style><table class='sudoku'><tr class='sudoku-tr'><td class='sudoku-td'>5</td><td class='sudoku-td'>3</td><td class='sudoku-td'>4</td><td class='sudoku-td'>6</td><td class='sudoku-td'>7</td><td class='sudoku-td'>8</td><td class='sudoku-td'>9</td><td class='sudoku-td'>1</td><td class='sudoku-td'>2</td></tr><tr class='sudoku-tr'><td class='sudoku-td'>6</td><td class='sudoku-td'>7</td><td class='sudoku-td'>2</td><td class='sudoku-td'>1</td><td class='sudoku-td'>9</td><td class='sudoku-td'>5</td><td class='sudoku-td'>3</td><td class='sudoku-td'>4</td><td class='sudoku-td'>8</td></tr><tr class='sudoku-tr'><td class='sudoku-td'>1</td><td class='sudoku-td'>9</td><td class='sudoku-td'>8</td><td class='sudoku-td'>3</td><td class='sudoku-td'>4</td><td class='sudoku-td'>2</td><td class='sudoku-td'>5</td><td class='sudoku-td'>6</td><td class='sudoku-td'>7</td></tr><tr class='sudoku-tr'><td class='sudoku-td'>8</td><td class='sudoku-td'>5</td><td class='sudoku-td'>9</td><td class='sudoku-td'>7</td><td class='sudoku-td'>6</td><td class='sudoku-td'>1</td><td class='sudoku-td'>4</td><td class='sudoku-td'>2</td><td class='sudoku-td'>3</td></tr><tr class='sudoku-tr'><td class='sudoku-td'>4</td><td class='sudoku-td'>2</td><td class='sudoku-td'>6</td><td class='sudoku-td'>8</td><td class='sudoku-td'>5</td><td class='sudoku-td'>3</td><td class='sudoku-td'>7</td><td class='sudoku-td'>9</td><td class='sudoku-td'>1</td></tr><tr class='sudoku-tr'><td class='sudoku-td'>7</td><td class='sudoku-td'>1</td><td class='sudoku-td'>3</td><td class='sudoku-td'>9</td><td class='sudoku-td'>2</td><td class='sudoku-td'>4</td><td class='sudoku-td'>8</td><td class='sudoku-td'>5</td><td class='sudoku-td'>6</td></tr><tr class='sudoku-tr'><td class='sudoku-td'>9</td><td class='sudoku-td'>6</td><td class='sudoku-td'>1</td><td class='sudoku-td'>5</td><td class='sudoku-td'>3</td><td class='sudoku-td'>7</td><td class='sudoku-td'>2</td><td class='sudoku-td'>8</td><td class='sudoku-td'>4</td></tr><tr class='sudoku-tr'><td class='sudoku-td'>2</td><td class='sudoku-td'>8</td><td class='sudoku-td'>7</td><td class='sudoku-td'>4</td><td class='sudoku-td'>1</td><td class='sudoku-td'>9</td><td class='sudoku-td'>6</td><td class='sudoku-td'>3</td><td class='sudoku-td'>5</td></tr><tr class='sudoku-tr'><td class='sudoku-td'>3</td><td class='sudoku-td'>4</td><td class='sudoku-td'>5</td><td class='sudoku-td'>2</td><td class='sudoku-td'>8</td><td class='sudoku-td'>6</td><td class='sudoku-td'>1</td><td class='sudoku-td'>7</td><td class='sudoku-td'>9</td></tr></table>"
      ],
      "text/plain": [
       "<__main__.Sudoku at 0x10d377828>"
      ]
     },
     "execution_count": 8,
     "metadata": {},
     "output_type": "execute_result"
    }
   ],
   "source": [
    "solve_sudoku(sudoku, sudoku_groups)"
   ]
  },
  {
   "cell_type": "markdown",
   "metadata": {},
   "source": [
    "Eyeballing a few randomly picked rows, columns, and blocks, this seems to indeed be a valid solution, and the solution was quick."
   ]
  },
  {
   "cell_type": "markdown",
   "metadata": {},
   "source": [
    "Let's try a harder one and see if our naive approach is too slow then. In fact, let's try [the world's hardest Sudoku by Prof. Arto Inkala](http://www.telegraph.co.uk/news/science/science-news/9359579/Worlds-hardest-sudoku-can-you-crack-it.html):"
   ]
  },
  {
   "cell_type": "code",
   "execution_count": 9,
   "metadata": {},
   "outputs": [
    {
     "data": {
      "text/html": [
       "<style type='text/css'>\n",
       "            tr.sudoku-tr {background: #ffffff;}\n",
       "            td.sudoku-td {border: 1px solid #888888; width: 25pt;\n",
       "                height: 25pt; text-align: center; font-size: 12pt;}\n",
       "            tr.sudoku-tr:nth-of-type(3n) {border-bottom: 2px solid black;}\n",
       "            tr.sudoku-tr:nth-of-type(1) {border-top: 2px solid black;}\n",
       "            td.sudoku-td:nth-of-type(3n) {border-right: 2px solid black;}\n",
       "            td.sudoku-td:nth-of-type(1) {border-left: 2px solid black;}\n",
       "            </style><table class='sudoku'><tr class='sudoku-tr'><td class='sudoku-td'>8</td><td class='sudoku-td'> </td><td class='sudoku-td'> </td><td class='sudoku-td'> </td><td class='sudoku-td'> </td><td class='sudoku-td'> </td><td class='sudoku-td'> </td><td class='sudoku-td'> </td><td class='sudoku-td'> </td></tr><tr class='sudoku-tr'><td class='sudoku-td'> </td><td class='sudoku-td'> </td><td class='sudoku-td'>3</td><td class='sudoku-td'>6</td><td class='sudoku-td'> </td><td class='sudoku-td'> </td><td class='sudoku-td'> </td><td class='sudoku-td'> </td><td class='sudoku-td'> </td></tr><tr class='sudoku-tr'><td class='sudoku-td'> </td><td class='sudoku-td'>7</td><td class='sudoku-td'> </td><td class='sudoku-td'> </td><td class='sudoku-td'>9</td><td class='sudoku-td'> </td><td class='sudoku-td'>2</td><td class='sudoku-td'> </td><td class='sudoku-td'> </td></tr><tr class='sudoku-tr'><td class='sudoku-td'> </td><td class='sudoku-td'>5</td><td class='sudoku-td'> </td><td class='sudoku-td'> </td><td class='sudoku-td'> </td><td class='sudoku-td'>7</td><td class='sudoku-td'> </td><td class='sudoku-td'> </td><td class='sudoku-td'> </td></tr><tr class='sudoku-tr'><td class='sudoku-td'> </td><td class='sudoku-td'> </td><td class='sudoku-td'> </td><td class='sudoku-td'> </td><td class='sudoku-td'>4</td><td class='sudoku-td'>5</td><td class='sudoku-td'>7</td><td class='sudoku-td'> </td><td class='sudoku-td'> </td></tr><tr class='sudoku-tr'><td class='sudoku-td'> </td><td class='sudoku-td'> </td><td class='sudoku-td'> </td><td class='sudoku-td'>1</td><td class='sudoku-td'> </td><td class='sudoku-td'> </td><td class='sudoku-td'> </td><td class='sudoku-td'>3</td><td class='sudoku-td'> </td></tr><tr class='sudoku-tr'><td class='sudoku-td'> </td><td class='sudoku-td'> </td><td class='sudoku-td'>1</td><td class='sudoku-td'> </td><td class='sudoku-td'> </td><td class='sudoku-td'> </td><td class='sudoku-td'> </td><td class='sudoku-td'>6</td><td class='sudoku-td'>8</td></tr><tr class='sudoku-tr'><td class='sudoku-td'> </td><td class='sudoku-td'> </td><td class='sudoku-td'>8</td><td class='sudoku-td'>5</td><td class='sudoku-td'> </td><td class='sudoku-td'> </td><td class='sudoku-td'> </td><td class='sudoku-td'>1</td><td class='sudoku-td'> </td></tr><tr class='sudoku-tr'><td class='sudoku-td'> </td><td class='sudoku-td'>9</td><td class='sudoku-td'> </td><td class='sudoku-td'> </td><td class='sudoku-td'> </td><td class='sudoku-td'> </td><td class='sudoku-td'>4</td><td class='sudoku-td'> </td><td class='sudoku-td'> </td></tr></table>"
      ],
      "text/plain": [
       "<__main__.Sudoku at 0x10d39b6a0>"
      ]
     },
     "execution_count": 9,
     "metadata": {},
     "output_type": "execute_result"
    }
   ],
   "source": [
    "hard_sudoku = Sudoku(\"8        \"\n",
    "                     \"  36     \"\n",
    "                     \" 7  9 2  \"\n",
    "                     \" 5   7   \"\n",
    "                     \"    457  \"\n",
    "                     \"   1   3 \"\n",
    "                     \"  1    68\"\n",
    "                     \"  85   1 \"\n",
    "                     \" 9    4  \")\n",
    "hard_sudoku"
   ]
  },
  {
   "cell_type": "code",
   "execution_count": 10,
   "metadata": {},
   "outputs": [
    {
     "name": "stdout",
     "output_type": "stream",
     "text": [
      "CPU times: user 9.95 s, sys: 10.1 ms, total: 9.96 s\n",
      "Wall time: 9.97 s\n"
     ]
    },
    {
     "data": {
      "text/html": [
       "<style type='text/css'>\n",
       "            tr.sudoku-tr {background: #ffffff;}\n",
       "            td.sudoku-td {border: 1px solid #888888; width: 25pt;\n",
       "                height: 25pt; text-align: center; font-size: 12pt;}\n",
       "            tr.sudoku-tr:nth-of-type(3n) {border-bottom: 2px solid black;}\n",
       "            tr.sudoku-tr:nth-of-type(1) {border-top: 2px solid black;}\n",
       "            td.sudoku-td:nth-of-type(3n) {border-right: 2px solid black;}\n",
       "            td.sudoku-td:nth-of-type(1) {border-left: 2px solid black;}\n",
       "            </style><table class='sudoku'><tr class='sudoku-tr'><td class='sudoku-td'>8</td><td class='sudoku-td'>1</td><td class='sudoku-td'>2</td><td class='sudoku-td'>7</td><td class='sudoku-td'>5</td><td class='sudoku-td'>3</td><td class='sudoku-td'>6</td><td class='sudoku-td'>4</td><td class='sudoku-td'>9</td></tr><tr class='sudoku-tr'><td class='sudoku-td'>9</td><td class='sudoku-td'>4</td><td class='sudoku-td'>3</td><td class='sudoku-td'>6</td><td class='sudoku-td'>8</td><td class='sudoku-td'>2</td><td class='sudoku-td'>1</td><td class='sudoku-td'>7</td><td class='sudoku-td'>5</td></tr><tr class='sudoku-tr'><td class='sudoku-td'>6</td><td class='sudoku-td'>7</td><td class='sudoku-td'>5</td><td class='sudoku-td'>4</td><td class='sudoku-td'>9</td><td class='sudoku-td'>1</td><td class='sudoku-td'>2</td><td class='sudoku-td'>8</td><td class='sudoku-td'>3</td></tr><tr class='sudoku-tr'><td class='sudoku-td'>1</td><td class='sudoku-td'>5</td><td class='sudoku-td'>4</td><td class='sudoku-td'>2</td><td class='sudoku-td'>3</td><td class='sudoku-td'>7</td><td class='sudoku-td'>8</td><td class='sudoku-td'>9</td><td class='sudoku-td'>6</td></tr><tr class='sudoku-tr'><td class='sudoku-td'>3</td><td class='sudoku-td'>6</td><td class='sudoku-td'>9</td><td class='sudoku-td'>8</td><td class='sudoku-td'>4</td><td class='sudoku-td'>5</td><td class='sudoku-td'>7</td><td class='sudoku-td'>2</td><td class='sudoku-td'>1</td></tr><tr class='sudoku-tr'><td class='sudoku-td'>2</td><td class='sudoku-td'>8</td><td class='sudoku-td'>7</td><td class='sudoku-td'>1</td><td class='sudoku-td'>6</td><td class='sudoku-td'>9</td><td class='sudoku-td'>5</td><td class='sudoku-td'>3</td><td class='sudoku-td'>4</td></tr><tr class='sudoku-tr'><td class='sudoku-td'>5</td><td class='sudoku-td'>2</td><td class='sudoku-td'>1</td><td class='sudoku-td'>9</td><td class='sudoku-td'>7</td><td class='sudoku-td'>4</td><td class='sudoku-td'>3</td><td class='sudoku-td'>6</td><td class='sudoku-td'>8</td></tr><tr class='sudoku-tr'><td class='sudoku-td'>4</td><td class='sudoku-td'>3</td><td class='sudoku-td'>8</td><td class='sudoku-td'>5</td><td class='sudoku-td'>2</td><td class='sudoku-td'>6</td><td class='sudoku-td'>9</td><td class='sudoku-td'>1</td><td class='sudoku-td'>7</td></tr><tr class='sudoku-tr'><td class='sudoku-td'>7</td><td class='sudoku-td'>9</td><td class='sudoku-td'>6</td><td class='sudoku-td'>3</td><td class='sudoku-td'>1</td><td class='sudoku-td'>8</td><td class='sudoku-td'>4</td><td class='sudoku-td'>5</td><td class='sudoku-td'>2</td></tr></table>"
      ],
      "text/plain": [
       "<__main__.Sudoku at 0x10d382470>"
      ]
     },
     "execution_count": 10,
     "metadata": {},
     "output_type": "execute_result"
    }
   ],
   "source": [
    "%time solve_sudoku(hard_sudoku, sudoku_groups)"
   ]
  },
  {
   "cell_type": "markdown",
   "metadata": {},
   "source": [
    "On my laptop, this took about ten seconds. Clearly the simple solver here is good enough to solve any Sudoku thrown its way."
   ]
  },
  {
   "cell_type": "markdown",
   "metadata": {},
   "source": [
    "If there are multiple solutions - which there should not be in published Sudoku puzzles - our algorithm returns the first one it finds. Let's see what solution it returns for an empty grid:"
   ]
  },
  {
   "cell_type": "code",
   "execution_count": 11,
   "metadata": {},
   "outputs": [
    {
     "data": {
      "text/html": [
       "<style type='text/css'>\n",
       "            tr.sudoku-tr {background: #ffffff;}\n",
       "            td.sudoku-td {border: 1px solid #888888; width: 25pt;\n",
       "                height: 25pt; text-align: center; font-size: 12pt;}\n",
       "            tr.sudoku-tr:nth-of-type(3n) {border-bottom: 2px solid black;}\n",
       "            tr.sudoku-tr:nth-of-type(1) {border-top: 2px solid black;}\n",
       "            td.sudoku-td:nth-of-type(3n) {border-right: 2px solid black;}\n",
       "            td.sudoku-td:nth-of-type(1) {border-left: 2px solid black;}\n",
       "            </style><table class='sudoku'><tr class='sudoku-tr'><td class='sudoku-td'>1</td><td class='sudoku-td'>2</td><td class='sudoku-td'>3</td><td class='sudoku-td'>4</td><td class='sudoku-td'>5</td><td class='sudoku-td'>6</td><td class='sudoku-td'>7</td><td class='sudoku-td'>8</td><td class='sudoku-td'>9</td></tr><tr class='sudoku-tr'><td class='sudoku-td'>4</td><td class='sudoku-td'>5</td><td class='sudoku-td'>6</td><td class='sudoku-td'>7</td><td class='sudoku-td'>8</td><td class='sudoku-td'>9</td><td class='sudoku-td'>1</td><td class='sudoku-td'>2</td><td class='sudoku-td'>3</td></tr><tr class='sudoku-tr'><td class='sudoku-td'>7</td><td class='sudoku-td'>8</td><td class='sudoku-td'>9</td><td class='sudoku-td'>1</td><td class='sudoku-td'>2</td><td class='sudoku-td'>3</td><td class='sudoku-td'>4</td><td class='sudoku-td'>5</td><td class='sudoku-td'>6</td></tr><tr class='sudoku-tr'><td class='sudoku-td'>2</td><td class='sudoku-td'>1</td><td class='sudoku-td'>4</td><td class='sudoku-td'>3</td><td class='sudoku-td'>6</td><td class='sudoku-td'>5</td><td class='sudoku-td'>8</td><td class='sudoku-td'>9</td><td class='sudoku-td'>7</td></tr><tr class='sudoku-tr'><td class='sudoku-td'>3</td><td class='sudoku-td'>6</td><td class='sudoku-td'>5</td><td class='sudoku-td'>8</td><td class='sudoku-td'>9</td><td class='sudoku-td'>7</td><td class='sudoku-td'>2</td><td class='sudoku-td'>1</td><td class='sudoku-td'>4</td></tr><tr class='sudoku-tr'><td class='sudoku-td'>8</td><td class='sudoku-td'>9</td><td class='sudoku-td'>7</td><td class='sudoku-td'>2</td><td class='sudoku-td'>1</td><td class='sudoku-td'>4</td><td class='sudoku-td'>3</td><td class='sudoku-td'>6</td><td class='sudoku-td'>5</td></tr><tr class='sudoku-tr'><td class='sudoku-td'>5</td><td class='sudoku-td'>3</td><td class='sudoku-td'>1</td><td class='sudoku-td'>6</td><td class='sudoku-td'>4</td><td class='sudoku-td'>2</td><td class='sudoku-td'>9</td><td class='sudoku-td'>7</td><td class='sudoku-td'>8</td></tr><tr class='sudoku-tr'><td class='sudoku-td'>6</td><td class='sudoku-td'>4</td><td class='sudoku-td'>2</td><td class='sudoku-td'>9</td><td class='sudoku-td'>7</td><td class='sudoku-td'>8</td><td class='sudoku-td'>5</td><td class='sudoku-td'>3</td><td class='sudoku-td'>1</td></tr><tr class='sudoku-tr'><td class='sudoku-td'>9</td><td class='sudoku-td'>7</td><td class='sudoku-td'>8</td><td class='sudoku-td'>5</td><td class='sudoku-td'>3</td><td class='sudoku-td'>1</td><td class='sudoku-td'>6</td><td class='sudoku-td'>4</td><td class='sudoku-td'>2</td></tr></table>"
      ],
      "text/plain": [
       "<__main__.Sudoku at 0x10d39f128>"
      ]
     },
     "execution_count": 11,
     "metadata": {},
     "output_type": "execute_result"
    }
   ],
   "source": [
    "solve_sudoku(Sudoku(81*\" \"), sudoku_groups)"
   ]
  },
  {
   "cell_type": "code",
   "execution_count": null,
   "metadata": {},
   "outputs": [],
   "source": []
  }
 ],
 "metadata": {
  "kernelspec": {
   "display_name": "Python 3",
   "language": "python",
   "name": "python3"
  },
  "language_info": {
   "codemirror_mode": {
    "name": "ipython",
    "version": 3
   },
   "file_extension": ".py",
   "mimetype": "text/x-python",
   "name": "python",
   "nbconvert_exporter": "python",
   "pygments_lexer": "ipython3",
   "version": "3.6.3"
  }
 },
 "nbformat": 4,
 "nbformat_minor": 2
}
